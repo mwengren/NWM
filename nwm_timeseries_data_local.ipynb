{
 "cells": [
  {
   "cell_type": "markdown",
   "id": "d38c5e95-8e1a-4fb2-aec6-5e4d94916d26",
   "metadata": {},
   "source": [
    "**Import required libraries**"
   ]
  },
  {
   "cell_type": "code",
   "execution_count": null,
   "id": "90494fc2-c124-4d0c-a086-75104493fa70",
   "metadata": {
    "tags": []
   },
   "outputs": [],
   "source": [
    "import intake\n",
    "import warnings\n",
    "warnings.simplefilter(action='ignore', category=FutureWarning)\n",
    "import matplotlib.pyplot as plt\n",
    "import datetime\n",
    "import numpy as np"
   ]
  },
  {
   "cell_type": "markdown",
   "id": "49c7b53c-5f2c-4e56-bb2d-f25ef93610f9",
   "metadata": {},
   "source": [
    "**Open the NWM intake catalog**"
   ]
  },
  {
   "cell_type": "code",
   "execution_count": null,
   "id": "e06b7b4b-469b-47b8-ae5a-972a83299094",
   "metadata": {
    "tags": []
   },
   "outputs": [],
   "source": [
    "catalog = intake.open_catalog('s3://nextgen-dmac-cloud-ingest/nwm_ll/nwm_intake.yml',storage_options={'anon':True})\n",
    "(list(catalog))"
   ]
  },
  {
   "cell_type": "markdown",
   "id": "029aa581-4192-4ee5-8120-6495f945184a",
   "metadata": {},
   "source": [
    "### Compare NWM netCDF source files with Kerchunked virtual 'best timeseries' aggregations\n",
    "\n",
    "Part of the processing included adding additional coordinate and attribute values to the souce netCDF files produced by NWM.  Below is a list of the additions.  The following cells open example .nc files for each forecast type, and then the equivalent Kerchunk aggregation from the Intake catalog.\n",
    "\n",
    "\n",
    "**Coordinates** added to the kerchunked datasets include: \n",
    "* latitude\n",
    "* longitude\n",
    "\n",
    "**Variables** added include:\n",
    "* altitude: altitude of node \n",
    "* link_id: the link id of the node\n",
    "* from_link_id: the from_link_id of the node in the network topology\n",
    "* to_link_id: the to_link_id of the node in the network topology\n",
    "* terminal_node: whether this node is a terminal node or not\n",
    "\n",
    "\n",
    "**Dimensions**\n",
    "Other changes include to the length of the `time` dimension in the dataset, which is increased to the # of forecast steps in the best timeseries aggregations, and the data variables all vary on (time, featureid) rather than only featureid as in the source forecast files.\n"
   ]
  },
  {
   "cell_type": "code",
   "execution_count": null,
   "id": "5f608c82-3b43-42ba-96a7-f1be98ada821",
   "metadata": {
    "scrolled": true,
    "tags": []
   },
   "outputs": [],
   "source": [
    "## open short range dataset:\n",
    "import xarray as xr\n",
    "\n",
    "ds_sr_nc = xr.open_dataset(\"files/nwm.t23z.short_range.channel_rt.f001.conus.nc\")\n",
    "ds_sr_nc"
   ]
  },
  {
   "cell_type": "code",
   "execution_count": null,
   "id": "9b129427-c8ce-4ea3-9264-20cff5f20b36",
   "metadata": {
    "tags": []
   },
   "outputs": [],
   "source": [
    "cat = catalog['NWM_Best_CONUS_Short_Range']\n",
    "ds_sr = cat.to_dask()\n",
    "ds_sr"
   ]
  },
  {
   "cell_type": "code",
   "execution_count": null,
   "id": "c1e43e6e-9119-40bd-a807-b053c1cec02c",
   "metadata": {
    "tags": []
   },
   "outputs": [],
   "source": [
    "# medium range conus:\n",
    "ds_mr_nc = xr.open_dataset(\"files/nwm.t18z.medium_range_blend.channel_rt.f001.conus.nc\")\n",
    "ds_mr_nc"
   ]
  },
  {
   "cell_type": "code",
   "execution_count": null,
   "id": "cd1bf9a8-6f1c-4a79-913a-d7e9d822421e",
   "metadata": {
    "tags": []
   },
   "outputs": [],
   "source": [
    "cat = catalog['NWM_Best_CONUS_Medium_Range']\n",
    "ds_mr = cat.to_dask()\n",
    "ds_mr"
   ]
  },
  {
   "cell_type": "code",
   "execution_count": null,
   "id": "64fabe92-e5d1-4daf-83d5-0a54f3e5b7f5",
   "metadata": {
    "tags": []
   },
   "outputs": [],
   "source": [
    "# short range alaska:\n",
    "ds_ak_sr_nc = xr.open_dataset(\"files/nwm.t00z.short_range.channel_rt.f001.alaska.nc\")\n",
    "ds_ak_sr_nc"
   ]
  },
  {
   "cell_type": "code",
   "execution_count": null,
   "id": "af310f47-3b90-4be7-8c76-d0f3f235e320",
   "metadata": {
    "tags": []
   },
   "outputs": [],
   "source": [
    "cat = catalog['NWM_Best_Alaska_Short_Range']\n",
    "ds_ak_sr = cat.to_dask()\n",
    "ds_ak_sr"
   ]
  },
  {
   "cell_type": "code",
   "execution_count": null,
   "id": "b52f1fb4-0daa-4781-bb17-ff5c14a4ce4c",
   "metadata": {
    "tags": []
   },
   "outputs": [],
   "source": [
    "# medium range alaska:\n",
    "ds_ak_mr_nc = xr.open_dataset(\"files/nwm.t00z.medium_range_blend.channel_rt.f001.alaska.nc\")\n",
    "ds_ak_mr_nc"
   ]
  },
  {
   "cell_type": "code",
   "execution_count": null,
   "id": "6ba2e38e-b6b0-4dd8-bd0d-856d3d20b531",
   "metadata": {
    "tags": []
   },
   "outputs": [],
   "source": [
    "cat = catalog['NWM_Best_Alaska_Medium_Range']\n",
    "ds_ak_mr = cat.to_dask()\n",
    "ds_ak_mr"
   ]
  },
  {
   "cell_type": "code",
   "execution_count": null,
   "id": "30b98327-8dcf-4210-b1ff-cc6b4194ef43",
   "metadata": {
    "tags": []
   },
   "outputs": [],
   "source": [
    "# short range hawaii:\n",
    "ds_hi_sr_nc = xr.open_dataset(\"files/nwm.t00z.short_range.channel_rt.f00015.hawaii.nc\")\n",
    "ds_hi_sr_nc"
   ]
  },
  {
   "cell_type": "code",
   "execution_count": null,
   "id": "89535b85-d5ff-4942-a5f9-d4898429a6da",
   "metadata": {
    "tags": []
   },
   "outputs": [],
   "source": [
    "cat = catalog['NWM_Best_Hawaii_Short_Range']\n",
    "ds_hi_sr = cat.to_dask()\n",
    "ds_hi_sr"
   ]
  },
  {
   "cell_type": "code",
   "execution_count": null,
   "id": "5d23ba41-01d0-47ad-9a7f-8842e8fde808",
   "metadata": {
    "tags": []
   },
   "outputs": [],
   "source": [
    "# short range puerto rico:\n",
    "ds_pr_sr_nc = xr.open_dataset(\"files/nwm.t06z.short_range.channel_rt.f001.puertorico.nc\")\n",
    "ds_pr_sr_nc"
   ]
  },
  {
   "cell_type": "code",
   "execution_count": null,
   "id": "fb3a724c-3ac3-4c8c-b629-46574473b8bd",
   "metadata": {
    "tags": []
   },
   "outputs": [],
   "source": [
    "cat = catalog['NWM_Best_PuertoRico_Short_Range']\n",
    "ds_pr_sr = cat.to_dask()\n",
    "ds_pr_sr"
   ]
  },
  {
   "cell_type": "markdown",
   "id": "63460b51-43d5-47f3-bbfd-e4e10330f2ab",
   "metadata": {},
   "source": [
    "#### Output the feature_id array subset for the netCDF sources:"
   ]
  },
  {
   "cell_type": "code",
   "execution_count": null,
   "id": "a9320e80-d5df-4f17-9fc6-34de3d1e1c25",
   "metadata": {
    "tags": []
   },
   "outputs": [],
   "source": [
    "\n",
    "feature_id_sr_nc = np.random.choice(ds_sr_nc.isel(time=0).coords['feature_id'], size=100)\n",
    "feature_id_mr_nc = np.random.choice(ds_mr_nc.isel(time=0).coords['feature_id'], size=100)\n",
    "feature_id_ak_sr_nc = np.random.choice(ds_ak_sr_nc.isel(time=0).coords['feature_id'], size=100)\n",
    "feature_id_ak_mr_nc = np.random.choice(ds_ak_mr_nc.isel(time=0).coords['feature_id'], size=100)\n",
    "feature_id_hi_sr_nc = np.random.choice(ds_hi_sr_nc.isel(time=0).coords['feature_id'], size=100)\n",
    "feature_id_pr_sr_nc = np.random.choice(ds_pr_sr_nc.isel(time=0).coords['feature_id'], size=100)\n",
    "\n",
    "print(f\"feature_id_sr_nc: {feature_id_sr_nc}\\n\\nfeature_id_mr_nc: {feature_id_mr_nc}\\n\\nfeature_id_ak_sr_nc: {feature_id_ak_sr_nc} \\\n",
    "\\n\\nfeature_id_ak_mr_nc: {feature_id_ak_mr_nc}\\n\\nfeature_id_hi_sr_nc: {feature_id_hi_sr_nc}\\n\\nfeature_id_pr_sr_nc: {feature_id_pr_sr_nc}\")"
   ]
  },
  {
   "cell_type": "markdown",
   "id": "4dca9ca4-d8ab-4558-b97e-cb5fcf662550",
   "metadata": {
    "tags": []
   },
   "source": [
    "#### Output the feature_id array subset for the kerchunk aggregation sources:\n",
    "\n",
    "This should yield similar results to the above (all feature_id values present in the collection arrays)"
   ]
  },
  {
   "cell_type": "code",
   "execution_count": null,
   "id": "9f7eac13-30cc-421d-b602-9ba3bfc37e54",
   "metadata": {
    "tags": []
   },
   "outputs": [],
   "source": [
    "feature_id_sr = np.random.choice(ds_sr.isel(time=0).coords['feature_id'], size=100)\n",
    "feature_id_mr = np.random.choice(ds_mr.isel(time=0).coords['feature_id'], size=100)\n",
    "feature_id_ak_sr = np.random.choice(ds_ak_sr.isel(time=0).coords['feature_id'], size=100)\n",
    "feature_id_ak_mr = np.random.choice(ds_ak_mr.isel(time=0).coords['feature_id'], size=100)\n",
    "feature_id_hi_sr = np.random.choice(ds_hi_sr.isel(time=0).coords['feature_id'], size=100)\n",
    "feature_id_pr_sr = np.random.choice(ds_pr_sr.isel(time=0).coords['feature_id'], size=100)\n",
    "\n",
    "print(f\"feature_id_sr: {feature_id_sr}\\n\\nfeature_id_mr: {feature_id_mr}\\n\\nfeature_id_ak_sr: {feature_id_ak_sr} \\\n",
    "\\n\\nfeature_id_ak_mr: {feature_id_ak_mr}\\n\\nfeature_id_hi_sr: {feature_id_hi_sr}\\n\\nfeature_id_pr_sr: {feature_id_pr_sr}\")"
   ]
  },
  {
   "cell_type": "markdown",
   "id": "fb3c23c4-f1e8-4e9c-b295-03b42dc93852",
   "metadata": {},
   "source": [
    "### Plots of different forecast collections"
   ]
  },
  {
   "cell_type": "markdown",
   "id": "4b231b72-34fb-4f7e-b59b-e3011c3d850c",
   "metadata": {},
   "source": [
    "First, assign a time range of a two week window from today's date for plotting:"
   ]
  },
  {
   "cell_type": "code",
   "execution_count": null,
   "id": "592c9108-7082-4991-aab8-52df1205c4e2",
   "metadata": {
    "tags": []
   },
   "outputs": [],
   "source": [
    "# create a time window of +-1 week\n",
    "start_t = datetime.datetime.now() - datetime.timedelta(days=7)\n",
    "end_t = datetime.datetime.now() + datetime.timedelta(days=7)\n",
    "\n",
    "# create a time window of +-1 day\n",
    "#start_t = datetime.datetime.now() - datetime.timedelta(days=1)\n",
    "#end_t = datetime.datetime.now() + datetime.timedelta(days=1)\n"
   ]
  },
  {
   "cell_type": "markdown",
   "id": "bedc559f-e755-42f4-b0f4-dd596582d795",
   "metadata": {
    "tags": []
   },
   "source": [
    "Check a few random feature_id index values from CONUS Short and Medium range collections to verify valid feature_ids returned:"
   ]
  },
  {
   "cell_type": "code",
   "execution_count": null,
   "id": "a76f23ed-b954-4dc8-8f92-8718b811d4ab",
   "metadata": {
    "tags": []
   },
   "outputs": [],
   "source": [
    "#feature_id = ds_sr.isel(time=0).coords['feature_id'].values[0]\n",
    "feature_id = np.random.choice(ds_sr.isel(time=0).coords['feature_id'])\n",
    "\n",
    "#print output:\n",
    "print(f\"start_t: {start_t}, end_t: {end_t}, feature_id: {feature_id}\")\n"
   ]
  },
  {
   "cell_type": "code",
   "execution_count": null,
   "id": "5bd8a5c2-84e1-4ad7-98ee-ee9f8d0befad",
   "metadata": {
    "tags": []
   },
   "outputs": [],
   "source": [
    "#feature_id = ds_mr.isel(time=0).coords['feature_id'].values[0]\n",
    "feature_id = np.random.choice(ds_mr.isel(time=0).coords['feature_id'])\n",
    "\n",
    "#print output:\n",
    "print(f\"start_t: {start_t}, end_t: {end_t}, feature_id: {feature_id}\")\n"
   ]
  },
  {
   "cell_type": "markdown",
   "id": "0eb99fcf-b64a-408d-b078-cc0eab8117b2",
   "metadata": {},
   "source": [
    "**NWM_Best_CONUS_Short_Range**, random feature_id:"
   ]
  },
  {
   "cell_type": "code",
   "execution_count": null,
   "id": "b51bdef6-fa37-4567-bffa-86a0896a1e9a",
   "metadata": {
    "tags": []
   },
   "outputs": [],
   "source": [
    "%%time\n",
    "\n",
    "feature_id = np.random.choice(ds_sr.isel(time=0).coords['feature_id'])\n",
    "ts_ds = ds_sr.sel(time=slice(start_t, end_t),feature_id=feature_id)\n",
    "plt.figure(figsize=(10,6))\n",
    "plt.plot(ts_ds.time, ts_ds.streamflow[:])\n",
    "\n",
    "print(f\"start_t: {start_t}, end_t: {end_t}, feature_id: {feature_id}\")\n",
    "plt.show()"
   ]
  },
  {
   "cell_type": "markdown",
   "id": "429be477-83dc-438d-b2ec-bd626d43f7a4",
   "metadata": {},
   "source": [
    "**NWM_Best_CONUS_Medium_Range**, random feature_id:"
   ]
  },
  {
   "cell_type": "code",
   "execution_count": null,
   "id": "84a32d5f-75a2-49b9-9afc-4376b0b833db",
   "metadata": {
    "tags": []
   },
   "outputs": [],
   "source": [
    "%%time\n",
    "\n",
    "feature_id = np.random.choice(ds_mr.isel(time=0).coords['feature_id'])\n",
    "ts_ds = ds_mr.sel(time=slice(start_t, end_t),feature_id=feature_id)\n",
    "plt.figure(figsize=(10,6))\n",
    "plt.plot(ts_ds.time, ts_ds.streamflow[:])\n",
    "\n",
    "print(f\"start_t: {start_t}, end_t: {end_t}, feature_id: {feature_id}\")\n",
    "plt.show()"
   ]
  },
  {
   "cell_type": "markdown",
   "id": "ee192bbe-3f7f-4e15-92ad-3ece566e5634",
   "metadata": {},
   "source": [
    "**NWM_Best_PuertoRico_Short_Range**, random feature_id:"
   ]
  },
  {
   "cell_type": "code",
   "execution_count": null,
   "id": "84ea0f82-bd3f-4236-bee8-3bbac038f70a",
   "metadata": {
    "tags": []
   },
   "outputs": [],
   "source": [
    "%%time\n",
    "\n",
    "feature_id = np.random.choice(ds_pr_sr.isel(time=0).coords['feature_id'])\n",
    "ts_ds = ds_pr_sr.sel(time=slice(start_t, end_t),feature_id=feature_id)\n",
    "plt.figure(figsize=(10,6))\n",
    "plt.plot(ts_ds.time, ts_ds.streamflow[:])\n",
    "\n",
    "print(f\"start_t: {start_t}, end_t: {end_t}, feature_id: {feature_id}\")\n",
    "plt.show()"
   ]
  },
  {
   "cell_type": "code",
   "execution_count": null,
   "id": "c6998f7a-cefc-4397-97db-087d7c525919",
   "metadata": {
    "tags": []
   },
   "outputs": [],
   "source": [
    "%%time\n",
    "\n",
    "feature_id = np.random.choice(ds_pr_sr.isel(time=0).coords['feature_id'])\n",
    "ts_ds = ds_pr_sr.sel(time=slice(start_t, end_t),feature_id=feature_id)\n",
    "plt.figure(figsize=(10,6))\n",
    "plt.plot(ts_ds.time, ts_ds.streamflow[:])\n",
    "\n",
    "print(f\"start_t: {start_t}, end_t: {end_t}, feature_id: {feature_id}\")\n",
    "plt.show()"
   ]
  },
  {
   "cell_type": "markdown",
   "id": "90794c7b-0585-4607-b1f4-c1359458e35e",
   "metadata": {},
   "source": [
    "**NWM_Best_Hawaii_Short_Range**, random feature_id:"
   ]
  },
  {
   "cell_type": "code",
   "execution_count": null,
   "id": "b2850b44-4283-4cc1-be8c-f65bf656bc0a",
   "metadata": {
    "tags": []
   },
   "outputs": [],
   "source": [
    "%%time\n",
    "\n",
    "feature_id = np.random.choice(ds_hi_sr.isel(time=0).coords['feature_id'])\n",
    "ts_ds = ds_hi_sr.sel(time=slice(start_t, end_t),feature_id=feature_id)\n",
    "plt.figure(figsize=(10,6))\n",
    "plt.plot(ts_ds.time, ts_ds.streamflow[:])\n",
    "\n",
    "print(f\"start_t: {start_t}, end_t: {end_t}, feature_id: {feature_id}\")\n",
    "plt.show()"
   ]
  },
  {
   "cell_type": "markdown",
   "id": "f5007222-d3e0-4f74-9b48-d9d2ae8b5ca4",
   "metadata": {},
   "source": [
    "**NWM_Best_Alaska_Short_Range**, random feature_id:"
   ]
  },
  {
   "cell_type": "code",
   "execution_count": null,
   "id": "c961a9c0-69fd-4980-ac07-818e048b2f1a",
   "metadata": {
    "tags": []
   },
   "outputs": [],
   "source": [
    "%%time\n",
    "\n",
    "feature_id = np.random.choice(ds_ak_sr.isel(time=0).coords['feature_id'])\n",
    "ts_ds = ds_ak_sr.sel(time=slice(start_t, end_t),feature_id=feature_id)\n",
    "plt.figure(figsize=(10,6))\n",
    "plt.plot(ts_ds.time, ts_ds.streamflow[:])\n",
    "\n",
    "print(f\"start_t: {start_t}, end_t: {end_t}, feature_id: {feature_id}\")\n",
    "plt.show()"
   ]
  },
  {
   "cell_type": "markdown",
   "id": "54ede940-185e-413e-a7b4-c7a7cd35fdb5",
   "metadata": {},
   "source": [
    "**NWM_Best_Alaska_Medium_Range**, random feature_id:"
   ]
  },
  {
   "cell_type": "code",
   "execution_count": null,
   "id": "fe1693b8-6862-4693-aa5a-ece2736156b1",
   "metadata": {
    "tags": []
   },
   "outputs": [],
   "source": [
    "%%time\n",
    "\n",
    "feature_id = np.random.choice(ds_ak_mr.isel(time=0).coords['feature_id'])\n",
    "ts_ds = ds_ak_mr.sel(time=slice(start_t, end_t),feature_id=feature_id)\n",
    "plt.figure(figsize=(10,6))\n",
    "plt.plot(ts_ds.time, ts_ds.streamflow[:])\n",
    "\n",
    "print(f\"start_t: {start_t}, end_t: {end_t}, feature_id: {feature_id}\")\n",
    "plt.show()"
   ]
  },
  {
   "cell_type": "markdown",
   "id": "3204472e-7424-4635-ab35-c8c59fa5b6ad",
   "metadata": {
    "tags": []
   },
   "source": [
    "### Original Plot\n",
    "\n",
    "This is the equivalent of the plot code in the original notebook, with a different two week time window to match the above plots"
   ]
  },
  {
   "cell_type": "markdown",
   "id": "e6487792-1e96-448e-a5b0-d58184217c63",
   "metadata": {},
   "source": [
    "&nbsp;\n",
    "\n",
    "**Extract and plot the timeseries data**"
   ]
  },
  {
   "cell_type": "code",
   "execution_count": null,
   "id": "4597caf3-a64b-45a3-bd9f-46124e29296d",
   "metadata": {
    "tags": []
   },
   "outputs": [],
   "source": [
    "# use the pre-selected feature_id instead:\n",
    "\n",
    "# this will select the first feature_id value at time slice 0:\n",
    "#feature_id = ds_ak_mr.isel(time=0).coords['feature_id'].values[0]\n",
    "\n",
    "# this will select the feature_id value at index -100 at time slice 0:\n",
    "feature_id = ds_ak_mr.isel(time=0).coords['feature_id'].values[-100]\n",
    "\n",
    "# this will use the hardcoded feature_id from the original notebook (sometimes errors out if not present):\n",
    "feature_id = ds_ak_mr.sel(feature_id=19020190088835).coords['feature_id'].values\n",
    "\n",
    "#print output:\n",
    "print(f\"start_t: {start_t}, end_t: {end_t}, feature_id: {feature_id}\")\n",
    "\n",
    "\n",
    "ts_ds = ds_ak_mr.sel(time=slice(start_t, end_t),feature_id=feature_id)\n",
    "plt.figure(figsize=(10,6))\n",
    "plt.plot(ts_ds.time, ts_ds.streamflow[:])\n",
    "\n",
    "plt.show()"
   ]
  },
  {
   "cell_type": "markdown",
   "id": "370bf853-6a59-47df-bf2a-8f9953ef354f",
   "metadata": {},
   "source": [
    "### Testing \n",
    "\n",
    "Just some testing of xarray subset functions for the above slicing/subsetting/plotting tests:"
   ]
  },
  {
   "cell_type": "code",
   "execution_count": null,
   "id": "94a99d8f-66c1-4368-a8a1-3c19cd75fcef",
   "metadata": {
    "tags": []
   },
   "outputs": [],
   "source": [
    "# testing xarray functions............\n",
    "\n",
    "#feature_id = 19020190088835\n",
    "#start_t='2024-02-23T13:00'\n",
    "#end_t = '2024-03-16T02:00'\n",
    "\n",
    "\n",
    "\n",
    "# slice by first feature_id element:\n",
    "\n",
    "# these functions slice by the first feature_id value, returning an xarray dataset with all times at the single feature_id index value\n",
    "#feature_id = ds_mr.isel(feature_id=0)\n",
    "#feature_id = ds_mr.isel(feature_id=0).coords['feature_id']\n",
    "\n",
    "# to get the actual value of the feature_id coordinate here, we don't use array syntax, as it's a scalar:\n",
    "feature_id = ds_mr.isel(feature_id=0).coords['feature_id'].values\n",
    "\n",
    "\n",
    "# slice by first element of the time dimension:\n",
    "\n",
    "# returns full xarray dataset:\n",
    "#feature_id = ds_mr.isel(time=0)\n",
    "\n",
    "# returns the feature_id coordinate xarray datarray:\n",
    "#feature_id = ds_mr.isel(time=0).coords['feature_id']\n",
    "feature_id = ds_mr.isel(time=0).coords['feature_id'].values\n",
    "\n",
    "# returns the 0th feature_id coordinate value:\n",
    "#feature_id = ds_mr.isel(time=0).coords['feature_id'].values[0]\n",
    "\n",
    "\n",
    "\n",
    "# or, just select a feature_id (doesn't actually do anything just output the same value):\n",
    "\n",
    "#feature_id = ds_sr.sel(feature_id=19020190088835)\n",
    "#feature_id = ds_ak_mr.sel(feature_id=19020190088835).coords['feature_id'].values\n",
    "\n",
    "\n",
    "\n",
    "\n",
    "# np random sample of 1000 feature_ids:\n",
    "#feature_id_sr = np.random.choice(ds_sr.isel(time=0).coords['feature_id'], size=100)\n",
    "feature_id = np.random.choice(ds_sr.isel(time=0).coords['feature_id'], size=100)\n",
    "#feature_id = np.random.choice(ds_mr.isel(time=0).coords['feature_id'], size=100)\n",
    "#feature_id = np.random.choice(ds_ak_sr.isel(time=0).coords['feature_id'], size=100)\n",
    "#feature_id = np.random.choice(ds_ak_mr.isel(time=0).coords['feature_id'], size=100)\n",
    "#feature_id = np.random.choice(ds_hi_sr.isel(time=0).coords['feature_id'], size=100)\n",
    "#feature_id = np.random.choice(ds_pr_sr.isel(time=0).coords['feature_id'], size=100)\n",
    "\n",
    "#print(feature_id_sr)\n",
    "#print(feature_id)"
   ]
  }
 ],
 "metadata": {
  "kernelspec": {
   "display_name": "global-global-pangeo-dev",
   "language": "python",
   "name": "conda-env-global-global-pangeo-dev-py"
  },
  "language_info": {
   "codemirror_mode": {
    "name": "ipython",
    "version": 3
   },
   "file_extension": ".py",
   "mimetype": "text/x-python",
   "name": "python",
   "nbconvert_exporter": "python",
   "pygments_lexer": "ipython3",
   "version": "3.11.0"
  }
 },
 "nbformat": 4,
 "nbformat_minor": 5
}
